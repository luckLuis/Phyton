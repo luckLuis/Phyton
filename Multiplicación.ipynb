{
 "cells": [
  {
   "cell_type": "code",
   "execution_count": 1,
   "id": "57822bb1",
   "metadata": {},
   "outputs": [
    {
     "name": "stdout",
     "output_type": "stream",
     "text": [
      "Tamaño de la matriz 1: 3\n",
      "Tamaño de la matriz 2: 3\n",
      "===========================================\n",
      "Matriz 1\n",
      "===========================================\n",
      "Número [1] matriz 1: 2\n",
      "Número [2] matriz 1: 6\n",
      "Número [3] matriz 1: 4\n",
      "===========================================\n",
      "Matriz 2\n",
      "===========================================\n",
      "Número [1] matriz 2: 3\n",
      "Número [2] matriz 2: 2\n",
      "Número [3] matriz 2: 1\n",
      "===========================================\n",
      "Matrices\n",
      "===========================================\n",
      "[2, 6, 4]\n",
      "[3, 2, 1]\n",
      "===========================================\n",
      "Multiplicación\n",
      "===========================================\n",
      "[6, 12, 4]\n"
     ]
    }
   ],
   "source": [
    "fila1 = int(input(\"Tamaño de la matriz 1: \"))\n",
    "\n",
    "fila2 = int(input(\"Tamaño de la matriz 2: \"))\n",
    "\n",
    "if(fila1 != fila2):\n",
    "    print(\"No se puede realizar la multiplicación\")\n",
    "\n",
    "else:\n",
    "\n",
    "    lista_a = []\n",
    "    lista_b = []\n",
    "\n",
    "    print(\"===========================================\")\n",
    "    print(\"Matriz 1\")\n",
    "    print(\"===========================================\")\n",
    "\n",
    "    for i in range(fila1):\n",
    "        numero_lista_a = int(input(\"Número [\" + str(i+1) + \"] matriz 1: \"))\n",
    "        lista_a.append(numero_lista_a)\n",
    "\n",
    "    print(\"===========================================\")\n",
    "    print(\"Matriz 2\")\n",
    "    print(\"===========================================\")\n",
    "\n",
    "    for i in range(fila1):\n",
    "        numero_lista_b = int(input(\"Número [\" + str(i+1) + \"] matriz 2: \"))\n",
    "        lista_b.append(numero_lista_b) \n",
    "\n",
    "    print(\"===========================================\")\n",
    "    print(\"Matrices\")\n",
    "    print(\"===========================================\")\n",
    "\n",
    "    print(lista_a)\n",
    "    print(lista_b)\n",
    "\n",
    "    print(\"===========================================\")\n",
    "    print(\"Multiplicación\")\n",
    "    print(\"===========================================\")\n",
    "\n",
    "    for i in range(fila1):\n",
    "        for j in range(fila2):\n",
    "            producto = lista_a[i] * lista_b[j]\n",
    "\n",
    "    producto = [i*j for i, j in zip(lista_a, lista_b)]\n",
    "    print(producto)"
   ]
  },
  {
   "cell_type": "code",
   "execution_count": null,
   "id": "67adee90",
   "metadata": {},
   "outputs": [],
   "source": []
  }
 ],
 "metadata": {
  "kernelspec": {
   "display_name": "Python 3",
   "language": "python",
   "name": "python3"
  },
  "language_info": {
   "codemirror_mode": {
    "name": "ipython",
    "version": 3
   },
   "file_extension": ".py",
   "mimetype": "text/x-python",
   "name": "python",
   "nbconvert_exporter": "python",
   "pygments_lexer": "ipython3",
   "version": "3.9.5"
  }
 },
 "nbformat": 4,
 "nbformat_minor": 5
}
